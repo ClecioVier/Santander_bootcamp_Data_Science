{
  "nbformat": 4,
  "nbformat_minor": 0,
  "metadata": {
    "colab": {
      "provenance": [],
      "collapsed_sections": [
        "kNuP0SDUZMBY"
      ]
    },
    "kernelspec": {
      "name": "python3",
      "display_name": "Python 3"
    },
    "language_info": {
      "name": "python"
    }
  },
  "cells": [
    {
      "cell_type": "markdown",
      "source": [
        "# Santander Dev Week 2023 (ETL com Python)"
      ],
      "metadata": {
        "id": "BPJQsTCULaC-"
      }
    },
    {
      "cell_type": "markdown",
      "source": [
        "Nesse projeto, avaliaremos quais alunos, de uma determinada sala, não estão realizando atividades complementares. Assim o objetivo desse projeto é analisar esses dados e após salvar outro aquivo xlsx para o orientador poder chamar os alunos para posterior conversa.\n",
        "\n"
      ],
      "metadata": {
        "id": "k5fA5OrXt1a3"
      }
    },
    {
      "cell_type": "markdown",
      "source": [
        "## **E**xtract\n",
        "\n",
        "Extrair quais alunos não estão realizando alguma atividade complementar."
      ],
      "metadata": {
        "id": "9dfI-o7gLRq9"
      }
    },
    {
      "cell_type": "code",
      "source": [
        "#importando as bibliotecas\n",
        "import pandas as pd\n",
        "import smtplib\n",
        "import email.message\n",
        "from email.mime.multipart import MIMEMultipart\n",
        "from email.mime.text import MIMEText\n",
        "from email.mime.base import MIMEBase\n",
        "from email import encoders"
      ],
      "metadata": {
        "id": "J7GKK7J3jKN8"
      },
      "execution_count": null,
      "outputs": []
    },
    {
      "cell_type": "code",
      "execution_count": 131,
      "metadata": {
        "id": "NYydpX_GLRCB",
        "colab": {
          "base_uri": "https://localhost:8080/"
        },
        "outputId": "c3a54ae6-e9df-4ea8-8128-1374dccff9de"
      },
      "outputs": [
        {
          "output_type": "stream",
          "name": "stdout",
          "text": [
            "0                Esporte\n",
            "1                    NaN\n",
            "2               Cultural\n",
            "3                Esporte\n",
            "4     Esporte / Cultural\n",
            "5                    NaN\n",
            "6                Esporte\n",
            "7               Cultural\n",
            "8               Cultural\n",
            "9                    NaN\n",
            "10    Esporte / Cultural\n",
            "11              Cultural\n",
            "12               Esporte\n",
            "13    Esporte / Cultural\n",
            "14                   NaN\n",
            "Name: Atividades, dtype: object\n"
          ]
        }
      ],
      "source": [
        "#Importando a base de dados\n",
        "df = pd.read_excel('/content/alunos.xlsx', sheet_name = 'cadastro')\n",
        "\n",
        "#Visualizando a coluna \"Atividades\"\n",
        "atividades = df['Atividades']\n",
        "print(atividades)"
      ]
    },
    {
      "cell_type": "code",
      "source": [
        "#Visualizando as informações da coluna\n",
        "atividades.info()"
      ],
      "metadata": {
        "colab": {
          "base_uri": "https://localhost:8080/"
        },
        "id": "G9ISfmYkr5Ka",
        "outputId": "3d46e053-e331-4c33-943b-4edf49ee851b"
      },
      "execution_count": 132,
      "outputs": [
        {
          "output_type": "stream",
          "name": "stdout",
          "text": [
            "<class 'pandas.core.series.Series'>\n",
            "RangeIndex: 15 entries, 0 to 14\n",
            "Series name: Atividades\n",
            "Non-Null Count  Dtype \n",
            "--------------  ----- \n",
            "11 non-null     object\n",
            "dtypes: object(1)\n",
            "memory usage: 248.0+ bytes\n"
          ]
        }
      ]
    },
    {
      "cell_type": "code",
      "source": [
        "#Visualizando quais alunos não realizam as atividades complementares\n",
        "atividades_nan = atividades.isnull()\n",
        "print(atividades_nan)"
      ],
      "metadata": {
        "colab": {
          "base_uri": "https://localhost:8080/"
        },
        "id": "Yooydj6OAN7J",
        "outputId": "0d1dee85-fbe5-4a05-fb59-7f3a8eaf197f"
      },
      "execution_count": 133,
      "outputs": [
        {
          "output_type": "stream",
          "name": "stdout",
          "text": [
            "0     False\n",
            "1      True\n",
            "2     False\n",
            "3     False\n",
            "4     False\n",
            "5      True\n",
            "6     False\n",
            "7     False\n",
            "8     False\n",
            "9      True\n",
            "10    False\n",
            "11    False\n",
            "12    False\n",
            "13    False\n",
            "14     True\n",
            "Name: Atividades, dtype: bool\n"
          ]
        }
      ]
    },
    {
      "cell_type": "markdown",
      "source": [
        "## **T**ransform\n",
        "\n",
        "Filtrar apenas os alunos que não realizam nenhuma atividade."
      ],
      "metadata": {
        "id": "cWoqInB4TF1x"
      }
    },
    {
      "cell_type": "code",
      "source": [
        "#Armazenando apenas os alunos que não realizam atividades complementares\n",
        "atividades_nan = df[df['Atividades'].isnull()]\n",
        "print(atividades_nan)"
      ],
      "metadata": {
        "colab": {
          "base_uri": "https://localhost:8080/"
        },
        "id": "4-z-wd-oPVCd",
        "outputId": "9e800d98-c94c-48e6-dfb0-664f00da9c8f"
      },
      "execution_count": 163,
      "outputs": [
        {
          "output_type": "stream",
          "name": "stdout",
          "text": [
            "    ID_aluno             email Aniversario TokenAluno Atividades\n",
            "1          2  miguel@gmail.com  20.06.2005        M1I        NaN\n",
            "5          6   aline@gmail.com  20.12.2005        F1A        NaN\n",
            "9         10     lua@gmail.com  04.06.2006        M1A        NaN\n",
            "14        15  carlos@gmail.com  24.07.2006        M1A        NaN\n"
          ]
        }
      ]
    },
    {
      "cell_type": "markdown",
      "source": [
        "## **L**oad\n",
        "\n",
        "Salvar o novo arquivo para o orientador conversar com os alunos que não desenvolvem nenhum tipo de atividade"
      ],
      "metadata": {
        "id": "kNuP0SDUZMBY"
      }
    },
    {
      "cell_type": "code",
      "source": [
        "#Salvando um novo arquivo xlsx\n",
        "alunos_sem_atividade = df_nan.to_excel('alunos_sem_atividade_set23.xlsx')"
      ],
      "metadata": {
        "id": "fTDEdFl_TWW9"
      },
      "execution_count": 168,
      "outputs": []
    },
    {
      "cell_type": "markdown",
      "source": [
        "#### Enviar email para o orientador"
      ],
      "metadata": {
        "id": "NJh0X4hEYGrU"
      }
    },
    {
      "cell_type": "code",
      "source": [
        "#Enviando email para o orientador\n",
        "\n",
        "host = 'smtp.gmail.com'\n",
        "port = '587'\n",
        "login = 'XXX@gmail.com'\n",
        "senha = 'xxxx xxxx xxxx xxxx'\n",
        "\n",
        "\n",
        "server = smtplib.SMTP(host,port)\n",
        "\n",
        "\n",
        "server.ehlo()\n",
        "server.starttls()\n",
        "server.login(login,senha)\n",
        "\n",
        "corpo = \"\"\"\n",
        "    Olá! Segue email com os alunos que não realizam nenhuma atividade complementar\n",
        "    Segue em anexo a tabela com dados de setembro de 2023\n",
        "    \"\"\"\n",
        "\n",
        "email_msg = MIMEMultipart()\n",
        "\n",
        "email_msg['From'] =  'dxxxxxxxx@gmail.com'\n",
        "\n",
        "email_msg['To'] = 'xxxxxxxxx@gmail.com'\n",
        "\n",
        "email_msg['Subject'] = 'Alunos que não realizam atividades complementares'\n",
        "\n",
        "email_msg.attach(MIMEText(corpo,'plain'))\n",
        "\n",
        "caminho_arquivo = '/content/alunos_sem_atividade_set23.xlsx'\n",
        "attchment = open(caminho_arquivo,'rb')\n",
        "\n",
        "att = MIMEBase('application', 'octet-stream')\n",
        "att.set_payload(attchment.read())\n",
        "encoders.encode_base64(att)\n",
        "\n",
        "att.add_header('Content-Disposition', f'attachment; filename=alunos_sem_atividade_set23.xlsx')\n",
        "attchment.close()\n",
        "\n",
        "email_msg.attach(att)\n",
        "\n",
        "server.sendmail(email_msg['From'], email_msg['To'], email_msg.as_string())\n",
        "\n",
        "server.quit()\n",
        "\n",
        "print('Email enviado')"
      ],
      "metadata": {
        "colab": {
          "base_uri": "https://localhost:8080/"
        },
        "id": "phqIpvN3XwCW",
        "outputId": "9ff9f54d-d2d8-40bd-99fc-0dcd821f0c3f"
      },
      "execution_count": 185,
      "outputs": [
        {
          "output_type": "stream",
          "name": "stdout",
          "text": [
            "Email enviado\n"
          ]
        }
      ]
    }
  ]
}